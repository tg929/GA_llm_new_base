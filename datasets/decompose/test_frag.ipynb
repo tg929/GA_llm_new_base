{
 "cells": [
  {
   "cell_type": "code",
   "execution_count": 2,
   "id": "5854a618-e4a4-406a-b786-13d78bffa879",
   "metadata": {},
   "outputs": [],
   "source": [
    "from rdkit import Chem\n",
    "from rdkit.Chem import rdchem\n",
    "from rdkit.Chem import Lipinski\n",
    "from collections import defaultdict\n",
    "\n",
    "# from molecules.fragmentation import reconstruct\n",
    "from rdkit import Chem\n",
    "import numpy as np\n",
    "from rdkit.Chem import BRICS\n",
    "from copy import deepcopy\n",
    "\n",
    "dummy = Chem.MolFromSmiles('[*]')\n",
    "\n",
    "def mol_from_smiles(smi):\n",
    "    smi = canonicalize(smi)\n",
    "    return Chem.MolFromSmiles(smi)\n",
    "\n",
    "def strip_dummy_atoms(mol):\n",
    "    hydrogen = mol_from_smiles('[H]')\n",
    "    mols = Chem.ReplaceSubstructs(mol, dummy, hydrogen, replaceAll=True)\n",
    "    mol = Chem.RemoveHs(mols[0])\n",
    "    return mol\n",
    "\n",
    "def break_on_bond(mol, bond, min_length=3):\n",
    "    if mol.GetNumAtoms() - bond <= min_length:\n",
    "        return [mol]\n",
    "\n",
    "    broken = Chem.FragmentOnBonds(\n",
    "        mol, bondIndices=[bond],\n",
    "        dummyLabels=[(0, 0)])\n",
    "\n",
    "    res = Chem.GetMolFrags(\n",
    "        broken, asMols=True, sanitizeFrags=False)\n",
    "\n",
    "    return res\n",
    "\n",
    "def get_size(frag):\n",
    "    dummies = count_dummies(frag)\n",
    "    total_atoms = frag.GetNumAtoms()\n",
    "    real_atoms = total_atoms - dummies\n",
    "    return real_atoms\n",
    "\n",
    "\n",
    "def count_dummies(mol):\n",
    "    count = 0\n",
    "    for atom in mol.GetAtoms():\n",
    "        if atom.GetAtomicNum() == 0:\n",
    "            count += 1\n",
    "    return count\n",
    "\n",
    "def mol_to_smiles(mol):\n",
    "    smi = Chem.MolToSmiles(mol, isomericSmiles=True)\n",
    "    return canonicalize(smi)\n",
    "\n",
    "\n",
    "def mols_to_smiles(mols):\n",
    "    return [mol_to_smiles(m) for m in mols]\n",
    "    #return [Chem.MolToSmiles(m, isomericSmiles=True, allBondsExplicit=True) for m in mols]\n",
    "\n",
    "\n",
    "def canonicalize(smi, clear_stereo=False):\n",
    "    mol = Chem.MolFromSmiles(smi)\n",
    "    if clear_stereo:\n",
    "        Chem.RemoveStereochemistry(mol)\n",
    "    return Chem.MolToSmiles(mol, isomericSmiles=True)\n",
    "\n",
    "\n",
    "def fragment_recursive(mol, frags):\n",
    "    try:\n",
    "        bonds = list(BRICS.FindBRICSBonds(mol))\n",
    "\n",
    "        if bonds == []:\n",
    "            frags.append(mol)\n",
    "            return frags\n",
    "\n",
    "        idxs, labs = list(zip(*bonds))\n",
    "\n",
    "        bond_idxs = []\n",
    "        for a1, a2 in idxs:\n",
    "            bond = mol.GetBondBetweenAtoms(a1, a2)\n",
    "            bond_idxs.append(bond.GetIdx())\n",
    "\n",
    "        order = np.argsort(bond_idxs).tolist()\n",
    "        bond_idxs = [bond_idxs[i] for i in order]\n",
    "\n",
    "        # 只会断开一根键，也就是说，如果某个片段可以切割两个断点，但是只会切割其中一个，另一个会跟该变短视作一个整体\n",
    "        broken = Chem.FragmentOnBonds(mol,\n",
    "                                      bondIndices=[bond_idxs[0]], \n",
    "                                      dummyLabels=[(0, 0)])\n",
    "        head, tail = Chem.GetMolFrags(broken, asMols=True)\n",
    "        # print(mol_to_smiles(head), mol_to_smiles(tail))\n",
    "        frags.append(head)\n",
    "        return fragment_recursive(tail, frags)\n",
    "    except Exception:\n",
    "        pass\n",
    "\n",
    "def join_molecules(molA, molB):\n",
    "    marked, neigh = None, None\n",
    "    for atom in molA.GetAtoms():\n",
    "        if atom.GetAtomicNum() == 0:\n",
    "            marked = atom.GetIdx()\n",
    "            neigh = atom.GetNeighbors()[0]\n",
    "            break\n",
    "    neigh = 0 if neigh is None else neigh.GetIdx()\n",
    "\n",
    "    if marked is not None:\n",
    "        ed = Chem.EditableMol(molA)\n",
    "        if neigh > marked:\n",
    "            neigh = neigh - 1\n",
    "        ed.RemoveAtom(marked)\n",
    "        molA = ed.GetMol()\n",
    "\n",
    "    joined = Chem.ReplaceSubstructs(\n",
    "        molB, dummy, molA,\n",
    "        replacementConnectionPoint=neigh,\n",
    "        useChirality=False)[0]\n",
    "\n",
    "    Chem.Kekulize(joined)\n",
    "    return joined\n",
    "\n",
    "def reconstruct(frags, reverse=False):\n",
    "    if len(frags) == 1:\n",
    "        return strip_dummy_atoms(frags[0]), frags\n",
    "\n",
    "    if count_dummies(frags[0]) != 1:\n",
    "        return None, None\n",
    "\n",
    "    if count_dummies(frags[-1]) != 1:\n",
    "        return None, None\n",
    "\n",
    "    for frag in frags[1:-1]:\n",
    "        if count_dummies(frag) != 2:\n",
    "            return None, None\n",
    "    \n",
    "    mol = join_molecules(frags[0], frags[1])\n",
    "    for i, frag in enumerate(frags[2:]):\n",
    "        #print(i, mol_to_smiles(frag), mol_to_smiles(mol))\n",
    "        mol = join_molecules(mol, frag)\n",
    "        #print(i, mol_to_smiles(mol))\n",
    "\n",
    "    # see if there are kekulization/valence errors\n",
    "    mol_to_smiles(mol)\n",
    "\n",
    "    return mol, frags\n",
    "        \n",
    "def break_into_fragments(mol, smi):\n",
    "    frags = []\n",
    "    frags = fragment_recursive(mol, frags)\n",
    "\n",
    "    if len(frags) == 0:\n",
    "        return smi, np.nan, 0\n",
    "\n",
    "    if len(frags) == 1:\n",
    "        return smi, smi, 1\n",
    "\n",
    "    rec, frags = reconstruct(frags)\n",
    "    if rec and mol_to_smiles(rec) == smi:\n",
    "        # fragments = [Chem.MolToSmiles(frag, isomericSmiles=True, canonical=False) for frag in frags]\n",
    "        fragments = mols_to_smiles(frags)\n",
    "        return smi, \" \".join(fragments), len(frags),frags\n",
    "\n",
    "    return smi, np.nan, 0\n",
    "\n"
   ]
  },
  {
   "cell_type": "code",
   "execution_count": 19,
   "id": "4d59e577-62bc-48f5-80a8-abb2bb439d03",
   "metadata": {},
   "outputs": [
    {
     "name": "stdout",
     "output_type": "stream",
     "text": [
      "N=[N+]=[N+]=C(Cc1ccc2ccccc2c1)[N+](=O)[O-]\n"
     ]
    },
    {
     "data": {
      "image/png": "[encoded data removed]",
      "text/plain": [
       "<rdkit.Chem.rdchem.Mol at 0x7ff3ac595c10>"
      ]
     },
     "execution_count": 19,
     "metadata": {},
     "output_type": "execute_result"
    }
   ],
   "source": [
    "smiles = \"N=[N+]=[N+]=C(Cc1ccc2ccccc2c1)[N+](=O)[O-]\"  # 输入SMILES\n",
    "smiles = Chem.MolToSmiles(Chem.MolFromSmiles(smiles))  # 标准化SMILES\n",
    "mol = Chem.MolFromSmiles(smiles)\n",
    "print(smiles)\n",
    "mol"
   ]
  },
  {
   "cell_type": "code",
   "execution_count": 20,
   "id": "c2cd0b9b-e7b5-4fd0-bca4-d2ef6586b3d8",
   "metadata": {},
   "outputs": [
    {
     "data": {
      "text/plain": [
       "('N=[N+]=[N+]=C(Cc1ccc2ccccc2c1)[N+](=O)[O-]',\n",
       " '*CC(=[N+]=[N+]=N)[N+](=O)[O-] *c1ccc2ccccc2c1',\n",
       " 2,\n",
       " [<rdkit.Chem.rdchem.Mol at 0x7ff3ac595eb0>,\n",
       "  <rdkit.Chem.rdchem.Mol at 0x7ff3ac595f20>])"
      ]
     },
     "execution_count": 20,
     "metadata": {},
     "output_type": "execute_result"
    }
   ],
   "source": [
    "result = break_into_fragments(mol, smiles)\n",
    "result"
   ]
  },
  {
   "cell_type": "code",
   "execution_count": 12,
   "id": "411a395a",
   "metadata": {},
   "outputs": [
    {
     "data": {
      "text/plain": [
       "'N=[N+]=[N+]=C(Cc1ccc2ccccc2c1)[N+](=O)[O-]'"
      ]
     },
     "execution_count": 12,
     "metadata": {},
     "output_type": "execute_result"
    }
   ],
   "source": [
    "result[0]"
   ]
  },
  {
   "cell_type": "code",
   "execution_count": 13,
   "metadata": {},
   "outputs": [
    {
     "data": {
      "text/plain": [
       "'*CC(=[N+]=[N+]=N)[N+](=O)[O-] *c1ccc2ccccc2c1'"
      ]
     },
     "execution_count": 13,
     "metadata": {},
     "output_type": "execute_result"
    }
   ],
   "source": [
    "result[1]"
   ]
  },
  {
   "cell_type": "code",
   "execution_count": 14,
   "metadata": {},
   "outputs": [
    {
     "data": {
      "text/plain": [
       "45"
      ]
     },
     "execution_count": 14,
     "metadata": {},
     "output_type": "execute_result"
    }
   ],
   "source": [
    "len(result[1])"
   ]
  },
  {
   "cell_type": "code",
   "execution_count": 15,
   "metadata": {},
   "outputs": [
    {
     "data": {
      "text/plain": [
       "42"
      ]
     },
     "execution_count": 15,
     "metadata": {},
     "output_type": "execute_result"
    }
   ],
   "source": [
    "len(result[0])"
   ]
  },
  {
   "cell_type": "code",
   "execution_count": 21,
   "id": "4356939f-6e4c-46eb-8f37-6586a31272cd",
   "metadata": {},
   "outputs": [
    {
     "data": {
      "text/plain": [
       "'[BOS]*CC(=[N+]=[N+]=N)[N+](=O)[O-][SEP]*c1ccc2ccccc2c1[EOS]'"
      ]
     },
     "execution_count": 21,
     "metadata": {},
     "output_type": "execute_result"
    }
   ],
   "source": [
    "'[BOS]' + result[1].replace(' ', '[SEP]') + '[EOS]'"
   ]
  },
  {
   "cell_type": "code",
   "execution_count": null,
   "id": "d15d50a0-182c-492b-b950-fdbcc3989b82",
   "metadata": {},
   "outputs": [],
   "source": []
  }
 ],
 "metadata": {
  "kernelspec": {
   "display_name": "fraggpt",
   "language": "python",
   "name": "python3"
  },
  "language_info": {
   "codemirror_mode": {
    "name": "ipython",
    "version": 3
   },
   "file_extension": ".py",
   "mimetype": "text/x-python",
   "name": "python",
   "nbconvert_exporter": "python",
   "pygments_lexer": "ipython3",
   "version": "3.9.21"
  }
 },
 "nbformat": 4,
 "nbformat_minor": 5
}
